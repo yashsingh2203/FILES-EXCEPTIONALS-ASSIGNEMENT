{
  "nbformat": 4,
  "nbformat_minor": 0,
  "metadata": {
    "colab": {
      "private_outputs": true,
      "provenance": []
    },
    "kernelspec": {
      "name": "python3",
      "display_name": "Python 3"
    },
    "language_info": {
      "name": "python"
    }
  },
  "cells": [
    {
      "cell_type": "markdown",
      "source": [
        "**Question.**"
      ],
      "metadata": {
        "id": "TEuQf60mNFof"
      }
    },
    {
      "cell_type": "markdown",
      "source": [],
      "metadata": {
        "id": "Jka3grQoN2xX"
      }
    },
    {
      "cell_type": "markdown",
      "source": [
        "1. what is difference between interpreted and compiled languages?\n",
        "\n",
        "Compiled Languages\n",
        "\n",
        "Compilation: Before running, the entire source code is translated into machine code by a compiler. This machine code is then executed directly by the computer's processor.\n",
        "Execution: The generated machine code is specific to the target machine's architecture.\n",
        "Examples: C, C++, Java, Go\n",
        "Interpreted Languages\n",
        "\n",
        "Interpretation: The source code is executed line by line by an interpreter. Each line is translated into machine code just before it is executed.\n",
        "Execution: The interpreter reads and executes code on-the-fly, without creating a separate executable file.\n",
        "Examples: Python, JavaScript, Ruby."
      ],
      "metadata": {
        "id": "XatBzyeFNVft"
      }
    },
    {
      "cell_type": "markdown",
      "source": [
        "2. what is exception handling in python?\n",
        "\n",
        "In Python, an exception is an error that occurs during the execution of a program. When an exception occurs, the normal flow of the program is disrupted, and the program may terminate . Exception handling is a mechanism that allows you to  handle these errors and prevent your program from crashing.\n",
        "\n",
        ":\n",
        "\n",
        "1. try and except Blocks\n",
        "\n",
        "The core of exception handling in Python involves using try and except blocks.\n",
        "\n",
        "The try block contains the code that might raise an exception.\n",
        "The except block contains the code that will be executed if an exception of a specific type occurs within the try block.\n",
        "\n",
        "try:\n",
        "    # code:\n",
        "    result = 10 / 0  # This will raise a ZeroDivisionError\n",
        "except ZeroDivisionError:\n",
        "    # Code :\n",
        "    print(\"Error: Division by zero\")\n",
        "\n",
        "\n",
        "\n",
        "2. Handling Multiple Exceptions\n",
        "\n",
        "You can have multiple except blocks to handle different types of exceptions:\n",
        "\n",
        "\n",
        "try:\n",
        "```\n",
        "    # Code :\n",
        "    result = 10 / 0\n",
        "    file = open(\"nonexistent_file.txt\", \"r\")\n",
        "except ZeroDivisionError:\n",
        "    print(\"Error: Division by zero\")\n",
        "except FileNotFoundError:\n",
        "    print(\"Error: File not found\")\n",
        "```\n",
        "\n",
        "\n",
        "\n",
        "3. else and finally Blocks\n",
        "\n",
        "The else block is executed if no exceptions occur in the try block.\n",
        "The finally block is always executed, regardless of whether an exception occurred or not.\n",
        "\n",
        "try:\n",
        "```\n",
        "\n",
        "    result = 10 / 2\n",
        "except ZeroDivisionError:\n",
        "    print(\"Error: Division by zero\")\n",
        "else:\n",
        "    print(\"No exceptions occurred\")\n",
        "finally:\n",
        "    print(\"This will always be executed\")\n",
        "\n",
        "```\n",
        "4. Raising Exceptions\n",
        "\n",
        "You can also manually raise exceptions using the raise keyword:\n",
        "\n",
        " ```\n",
        "def validate_age(age):\n",
        "    if age < 0:\n",
        "        raise ValueError(\"Age cannot be negative\")\n",
        "\n",
        "try:\n",
        "    validate_age(-5)\n",
        "except ValueError as e:\n",
        "    print(e)  # Output: Age cannot be negative\n",
        "```"
      ],
      "metadata": {
        "id": "hnBz35tvOF7K"
      }
    },
    {
      "cell_type": "markdown",
      "source": [
        "3. what is the purpose of the finally block in exception handling?\n",
        "\n",
        "\n",
        "The finally block is a crucial part of exception handling in Python (and many other programming languages). Its primary purpose is to ensure that certain code is always executed, regardless of whether an exception occurred or not within the preceding try and except blocks.\n",
        "\n",
        " purpose:...\n",
        "\n",
        "Cleanup Actions: The finally block is often used to perform cleanup actions, such as closing files, releasing resources, or resetting variables. These actions are essential to ensure that your program leaves the system in a consistent state, even if an error occurs.\n",
        "\n",
        "Guaranteed Execution: The finally block is guaranteed to execute, even if an unhandled exception is raised or if the try block is exited using a return, break, or continue statement. This makes it ideal for tasks that must be performed regardless of the program's flow.\n",
        "\n",
        "Resource Management: In scenarios where you're working with external resources like files or network connections, the finally block is crucial for releasing these resources to prevent leaks or unexpected behavior.\n",
        "\n",
        " example:\n",
        "\n",
        "\n",
        "try:\n",
        "```\n",
        "    file = open(\"my_file.txt\", \"w\")\n",
        "    # ... perform operations on the file ...\n",
        "except IOError:\n",
        "    print(\"An error occurred while accessing the file.\")\n",
        "finally:\n",
        "    file.close()  # Always close the file, even if an error occurred\n",
        "```"
      ],
      "metadata": {
        "id": "Y8HzJwvCQBsa"
      }
    },
    {
      "cell_type": "markdown",
      "source": [
        "4. what is logging in pyhton?\n",
        "\n",
        "Logging is a valuable technique in software development that allows you to record events, messages, and data during the execution of your program. It helps you track the flow of execution, identify errors, and debug issues.\n",
        "\n",
        "Python's logging Module.\n",
        "\n",
        "Python provides a built-in module called logging that offers a flexible and powerful logging system. Here's a breakdown of its key features:\n",
        "\n",
        "Loggers: Loggers are the main objects used to create and emit log records. You typically create a logger for your module or application.\n",
        "\n",
        "Handlers: Handlers determine where log records are sent, such as to a file, console, or network location.\n",
        "\n",
        "Formatters: Formatters define the layout and structure of log messages, including timestamps, log levels, and other information.\n",
        "\n",
        "Log Levels: Log levels represent the severity of a log record, such as DEBUG, INFO, WARNING, ERROR, and CRITICAL. They help you filter and prioritize log messages."
      ],
      "metadata": {
        "id": "anIxXhAJRcM4"
      }
    },
    {
      "cell_type": "markdown",
      "source": [
        "5.what is the significance of the _ _del_ _ method in python?\n",
        "\n",
        "In Python, the __del__ method is a special method, also known as a destructor. It's called when an object is about to be garbage collected, which means it's no longer being used and is eligible for removal from memory.\n",
        "\n",
        "Significance...\n",
        "\n",
        "Cleanup Actions: The primary significance of the __del__ method is to provide a way to perform cleanup actions before an object is destroyed. This can include releasing resources like file handles, network connections, or database connections, or performing any other necessary finalization tasks.\n",
        "\n",
        "Resource Management: By using the __del__ method to release resources, you help prevent resource leaks and ensure that your program leaves the system in a consistent state.\n",
        "\n",
        "Object Lifecycle Management: The __del__ method plays a role in managing the lifecycle of objects, allowing you to define actions that should be taken when an object is no longer needed."
      ],
      "metadata": {
        "id": "39hGEVKfSbP9"
      }
    },
    {
      "cell_type": "markdown",
      "source": [
        "6. what is difference between import and from ...import in pyhton?\n",
        "\n",
        "import ..\n",
        "\n",
        "**it imports the entire module as a single unit.*\n",
        "\n",
        "**you need to use the module name to access its members (functions,classes, variables)*\n",
        "\n",
        "\n",
        "from ... import..\n",
        "\n",
        "**Imports specific members (functions, classes, variables) from a module directly into your current namespace.*\n",
        "\n",
        "**You can use the imported members directly without prefixing them with the module name.*\n",
        "\n",
        "**import: Generally preferred for larger modules or when you want to avoid potential name conflicts.*\n",
        "\n",
        "**from ... import: Useful for importing specific functions or classes that you use frequently, making your code more concise. However, be mindful of potential name clashes.*"
      ],
      "metadata": {
        "id": "KJsL_-eJTc0B"
      }
    },
    {
      "cell_type": "markdown",
      "source": [
        "7. How can you handle multiple exceptions in python?\n",
        "\n",
        ". Using multiple except blocks:\n",
        "\n",
        "You can have multiple except blocks, each designed to handle a specific type of exception. This allows you to tailor your error handling logic based on the specific exception that occurred\n",
        "\n",
        ".Handling multiple exceptions in a single except block:\n",
        "\n",
        "You can handle multiple exceptions in a single except block by specifying them as a tuple. This is useful when you want to perform the same action for different types of exceptions.\n",
        "\n",
        ".Using a generic except block:\n",
        "\n",
        "you can use a generic except block to catch any exception that was not handled by previous except blocks.\n",
        "this is often used as a fallback to handle unexpected errors.\n",
        "however it's generally recommended to be as specific as possible in your exception handling.\n"
      ],
      "metadata": {
        "id": "gyaG_mQ8WGQB"
      }
    },
    {
      "cell_type": "markdown",
      "source": [
        "8. what is the purpose of the with statement when handling files in python?\n",
        "\n",
        "\n",
        "The with statement is a powerful tool in Python that provides a concise and elegant way to manage resources, including files. When used with files, it ensures that the file is automatically closed when the block of code within the with statement is exited, regardless of whether any exceptions occurred.\n",
        "\n",
        " its purpose:\n",
        "\n",
        "Automatic Resource Management: The primary purpose of the with statement is to automatically manage the acquisition and release of resources. In the case of files, it ensures that the file is opened before the code block is executed and closed when the block is exited.\n",
        "\n",
        "Exception Safety: The with statement guarantees that the file will be closed even if an exception is raised within the code block. This prevents resource leaks and ensures that your program leaves the system in a consistent state.\n",
        "\n",
        "Readability and Conciseness: The with statement makes your code more readable and concise by eliminating the need for explicit try-finally blocks for resource management."
      ],
      "metadata": {
        "id": "EoKSrrD3YZEE"
      }
    },
    {
      "cell_type": "markdown",
      "source": [
        "9.what is the difference between multithreading and multiprocessing?\n",
        "\n",
        "\n",
        "Multithreading\n",
        "\n",
        "Uses threads, which are lighter-weight and share the same memory space.\n",
        "Suitable for I/O-bound tasks where threads can wait for external resources without blocking the entire process.\n",
        "Limited by the Global Interpreter Lock (GIL) in Python, which prevents multiple threads from executing Python bytecode simultaneously.\n",
        "Can lead to race conditions if shared resources are not carefully managed.\n",
        "\n",
        "Multiprocessing\n",
        "\n",
        "Uses processes, which are heavier-weight and have separate memory spaces.\n",
        "Suitable for CPU-bound tasks where multiple processes can utilize multiple CPU cores.\n",
        "Bypasses the GIL limitation, allowing true parallelism for CPU-bound tasks.\n",
        "Requires more overhead for inter-process communication."
      ],
      "metadata": {
        "id": "n0z-7SoOkij0"
      }
    },
    {
      "cell_type": "markdown",
      "source": [
        "10. what are the advantages of using logging in a progrm?\n",
        "\n",
        "Logging is a valuable technique in software development that allows you to record events, messages, and data during the execution of your program. It helps you track the flow of execution, identify errors, and debug issues.\n",
        "\n",
        " key advantages:\n",
        "\n",
        "*Debugging and Troubleshooting: Logs provide a valuable record of what happened during program execution, making it easier to identify the cause of errors and bugs. By examining the log messages, you can trace the sequence of events leading up to an issue and pinpoint the source of the problem.\n",
        "\n",
        "*Monitoring and Auditing: Logs can be used to monitor the performance and behavior of your application in real-time. By tracking key metrics and events, you can identify potential issues before they become critical, and you can gain insights into how your application is being used.\n",
        "\n",
        "*Security and Compliance: Logging can play an important role in security and compliance by providing an audit trail of user actions and system events. This information can be used to detect and investigate security breaches, and it can help you meet regulatory requirements for data retention and logging."
      ],
      "metadata": {
        "id": "gJdysY6Xlic6"
      }
    },
    {
      "cell_type": "markdown",
      "source": [
        "11. what is memory management in python?\n",
        "\n",
        "\n",
        " memory management in pyhton involve the managemnt of memory allocation and deallocation for objects and data structures used in python:\n",
        "\n",
        " the key aspects:\n",
        "\n",
        "Private Heap: Python uses a private heap to store all Python objects and data structures. This heap is managed internally by the Python memory manager and is not directly accessible to the programmer.\n",
        "\n",
        "Automatic Memory Management: Python uses automatic memory management, which means that the programmer does not need to manually allocate or deallocate memory. The Python interpreter takes care of this automatically.\n",
        "\n",
        "Reference Counting: Python's primary memory management technique is reference counting. Each object has a reference count, which is the number of references to that object. When the reference count of an object reaches zero, it is no longer being used and is eligible for garbage collection.\n",
        "\n",
        "Garbage Collection: The garbage collector is responsible for reclaiming memory occupied by objects that are no longer in use. It periodically scans the heap for objects with a reference count of zero and frees up their memory.\n",
        "\n",
        "Memory Allocation: When you create a new object in Python, the memory manager allocates a block of memory for it from the heap. This memory is used to store the object's data and metadata.\n",
        "\n",
        "Memory Deallocation: When an object is no longer needed, its reference count is decremented. If the reference count reaches zero, the garbage collector deallocates the memory occupied by the object, making it available for reuse.\n",
        "\n",
        "Dynamic Allocation: Python uses dynamic memory allocation, which means that memory is allocated as needed during program execution. This allows programs to adapt to changing memory requirements.\n",
        "\n",
        "Static Allocation: While most memory in Python is dynamically allocated, some data structures, such as global variables and code objects, are statically allocated. This means that their memory is allocated at compile time and remains fixed throughout the program's execution.\n"
      ],
      "metadata": {
        "id": "MKDnX9FRmquK"
      }
    },
    {
      "cell_type": "markdown",
      "source": [
        "12. what are the basic step involve in exception handling in python?\n",
        "\n",
        "Exception handling in Python involves using try, except, else, and finally blocks to gracefully handle errors that may occur during program execution.\n",
        "\n",
        "basic steps:\n",
        "\n",
        "try block: Place the code that might raise an exception within a try block. This is the code you want to monitor for potential errors.\n",
        "\n",
        "except block: Define one or more except blocks to handle specific types of exceptions that might be raised within the try block. Each except block specifies the type of exception it handles and the code to execute if that exception occurs.\n",
        "else block (optional): Include an else block to specify code that should be executed if no exceptions are raised within the try block.\n",
        "\n",
        "finally block (optional): Add a finally block to specify code that should be executed regardless of whether an exception occurred or not. This is typically used for cleanup actions, such as closing files or releasing resources.\n"
      ],
      "metadata": {
        "id": "Zs5BEskvnm6d"
      }
    },
    {
      "cell_type": "markdown",
      "source": [
        "13. why is memory management important in python?\n",
        "\n",
        "Memory management is crucial in Python for several reasons:\n",
        "\n",
        "Efficiency: Proper memory management ensures that your programs use memory resources efficiently. By releasing unused memory, you prevent your programs from consuming excessive resources, which can lead to slower performance or even crashes.\n",
        "\n",
        "Stability: Efficient memory management helps maintain the stability of your programs. By preventing memory leaks (where memory is allocated but never released), you avoid potential errors and crashes that can occur when your program runs out of available memory.\n",
        "\n",
        "Performance: By optimizing memory usage, you can improve the overall performance of your programs. When your programs have access to sufficient memory, they can execute tasks faster and more efficiently.\n",
        "\n",
        "Resource Optimization: Memory is a valuable resource, and proper management ensures that it is used wisely. By minimizing memory consumption, you can free up resources for other processes or applications running on the system.\n",
        "\n",
        "Scalability: Effective memory management is essential for building scalable applications. As your programs grow in size and complexity, efficient memory usage becomes increasingly important to ensure they can handle larger workloads without performance degradation.\n",
        "\n",
        "Garbage Collection: Python's automatic garbage collection helps simplify memory management for developers, but understanding how it works can help you write more efficient code. By avoiding unnecessary object creation or circular references that can hinder garbage collection, you can further optimize your program's memory usage.\n",
        "\n",
        "Debugging: When memory-related issues arise, understanding memory management can aid in debugging and troubleshooting. By analyzing memory usage patterns and identifying potential leaks, you can resolve problems more effectively.\n",
        "\n"
      ],
      "metadata": {
        "id": "Q6FhiMOko3Lr"
      }
    },
    {
      "cell_type": "markdown",
      "source": [
        "14. what is the role of try and except in exception handling?\n",
        "\n",
        "try Block:\n",
        "\n",
        "Purpose: The try block is used to enclose the code that might raise an exception. It essentially defines a \"protected\" section of your code where you anticipate potential errors.\n",
        "\n",
        "Role: The Python interpreter executes the code within the try block. If an exception occurs during the execution of this code, the interpreter immediately stops executing the try block and searches for a matching except block to handle the exception. If no exception occurs, the try block completes normally, and the execution continues after the except block(s).\n",
        "\n",
        "except Block:\n",
        "\n",
        "Purpose: The except block is designed to handle specific types of exceptions that might be raised within the preceding try block. You can have one or more except blocks to handle different types of exceptions differently.\n",
        "\n",
        "Role: When an exception occurs in the try block, the interpreter searches for an except block that matches the type of exception raised. If a matching except block is found, the code within that block is executed to handle the exception gracefully. If no matching except block is found, the exception propagates up the call stack until it's either handled by another try-except structure or causes the program to terminate.\n",
        "\n"
      ],
      "metadata": {
        "id": "u6YAmQqKpgsw"
      }
    },
    {
      "cell_type": "markdown",
      "source": [
        "15. how does python's garbage collection system work?\n",
        "\n",
        "Python's garbage collection is based on two main principles:\n",
        "\n",
        "Reference Counting: Every object in Python has a reference count, which keeps track of how many variables or other objects are pointing to it. When an object's reference count drops to zero, it means it's no longer accessible or in use.\n",
        "\n",
        "Cyclic Garbage Collection: Reference counting alone can't handle circular references (when objects refer to each other in a cycle). To address this, Python uses a cyclic garbage collector that detects and collects objects involved in such cycles.\n",
        "\n",
        "The Process\n",
        "\n",
        "Reference Counting: The primary mechanism is reference counting. When an object is created, its reference count is initialized to 1. When a variable is assigned to the object, the reference count is incremented. When a variable goes out of scope or is reassigned, the reference count is decremented. If the reference count reaches 0, the object is immediately deallocated.\n",
        "\n",
        "Generational Garbage Collection: Python uses a generational garbage collector to further optimize memory management. It divides objects into three generations (0, 1, and 2). Newly created objects are placed in generation 0. Objects that survive a garbage collection cycle are moved to the next generation. The garbage collector runs more frequently on lower generations, as they are more likely to contain short-lived objects.\n",
        "\n",
        "Cyclic Garbage Collection: For detecting and collecting objects involved in circular references, Python uses a separate cyclic garbage collector. It periodically runs and identifies groups of objects that refer to each other in a cycle but are not reachable from the main program. These objects are then deallocated."
      ],
      "metadata": {
        "id": "VHj8ChzRsAeM"
      }
    },
    {
      "cell_type": "markdown",
      "source": [
        "16. what is the purpose of the else block in exception handling?\n",
        "\n",
        "The finally block is a crucial part of exception handling in Python (and many other programming languages). Its primary purpose is to ensure that certain code is always executed, regardless of whether an exception occurred or not within the preceding try and except blocks.\n",
        "\n",
        "Key Use Cases\n",
        "\n",
        "Cleanup Actions: The finally block is often used to perform cleanup actions, such as closing files, releasing resources, or resetting variables. These actions are essential to ensure that your program leaves the system in a consistent state, even if an error occurs.\n",
        "\n",
        "Guaranteed Execution: The finally block is guaranteed to execute, even if an unhandled exception is raised or if the try block is exited using a return, break, or continue statement. This makes it ideal for tasks that must be performed regardless of the program's flow.\n",
        "\n",
        "Resource Management: In scenarios where you're working with external resources like files or network connections, the finally block is crucial for releasing these resources to prevent leaks or unexpected behavior.\n"
      ],
      "metadata": {
        "id": "EFvluw9msu2w"
      }
    },
    {
      "cell_type": "markdown",
      "source": [
        "17. what are common logging levels in pythons?\n",
        "\n",
        "LOGGING LEVELS..\n",
        "\n",
        "Python's logging module defines several logging levels, representing the severity of a log message. These levels help you filter and prioritize log messages based on their importance. Here are the common logging levels in Python:\n",
        "\n",
        "DEBUG: The lowest level, used for detailed debugging information. Typically used during development to track the flow of execution and identify potential issues.\n",
        "\n",
        "INFO: Used for general informational messages about the program's progress. These messages provide a high-level overview of what the program is doing.\n",
        "\n",
        "WARNING: Indicates potential problems that might not be critical but require attention. For example, a warning might be logged if a resource is running low or if an unexpected condition is encountered.\n",
        "\n",
        "ERROR: Used for error messages that indicate a significant problem that needs to be addressed. These errors might prevent the program from functioning correctly.\n",
        "\n",
        "CRITICAL: The highest level, reserved for critical errors that might lead to program termination. These errors require immediate attention and often indicate a severe issue.\n",
        "\n",
        "\n"
      ],
      "metadata": {
        "id": "rzkI3Xomtqix"
      }
    },
    {
      "cell_type": "markdown",
      "source": [
        "18. what is the difference between os.fork() and multiprocessing in python?\n",
        "\n",
        "os.fork()..\n",
        "\n",
        "Mechanism: It's a low-level system call that creates a new process by duplicating the existing process. The new process (child) is a copy of the parent process, including its memory space.\n",
        "\n",
        "Memory: Both processes share the same memory initially, but changes made by one process are not reflected in the other due to copy-on-write semantics.\n",
        "\n",
        "Communication: Inter-process communication (IPC) is typically done using shared memory or pipes.\n",
        "\n",
        "MULTIPROCESSING..\n",
        "\n",
        "Mechanism: It's a higher-level abstraction provided by the multiprocessing module. It creates new processes that are completely separate from the parent process, with their own memory space.\n",
        "\n",
        "Memory: Processes have their own memory and don't share data directly.\n",
        "\n",
        "Communication: Provides various mechanisms for IPC, such as queues, pipes, and shared memory objects.\n",
        "\n"
      ],
      "metadata": {
        "id": "1VJLFyOcukyi"
      }
    },
    {
      "cell_type": "markdown",
      "source": [
        "19. what is the importance of closing a file in python?\n",
        "\n",
        "Importance of Closing Files\n",
        "\n",
        "When you're done working with a file in Python, it's crucial to close it properly. Here's why:\n",
        "\n",
        "Releasing System Resources: When you open a file, the operating system allocates resources like memory buffers and file handles to manage it. By closing the file using the close() method or the with statement, these resources are released back to the system, making them available for other programs or tasks. This is essential for efficient system resource management.\n",
        "\n",
        "Ensuring Data Integrity: If you write data to a file and don't close it, the changes you made might not be fully written to disk. Closing the file ensures that all data is flushed from the output buffers to the disk, guaranteeing that your changes are saved permanently. Without closing, you risk losing or corrupting data.\n",
        "\n",
        "Preventing Conflicts and Errors: While a file is open, other programs or processes might not be able to access it properly. This can lead to errors or conflicts if they try to read or write to the same file simultaneously. Closing the file releases the lock and makes it available for others to use without issues.\n",
        "\n",
        "Avoiding Resource Leaks: In long-running programs, forgetting to close files can lead to resource leaks. This means system resources are gradually consumed and eventually might cause performance issues or even crashes. Closing files explicitly helps prevent this and keeps your programs running smoothly.\n",
        "\n",
        "Following Good Programming Practices: Explicitly closing files is considered good programming practice. It demonstrates a clear intention to release resources and maintain system integrity. It also makes your code more readable and easier to maintain."
      ],
      "metadata": {
        "id": "hoKVtz8mwMgX"
      }
    },
    {
      "cell_type": "markdown",
      "source": [
        "20. what is the difference between file.read() and file.readline() in python?\n",
        "\n",
        "\n",
        "Both methods are used to read data from a file, but they differ in how they read and return the data:\n",
        "\n",
        "file.read()\n",
        "\n",
        "Reads the entire content of the file as a single string.\n",
        "If you provide an optional size argument, it reads up to that many bytes/characters.\n",
        "\n",
        "\n",
        "file.readline()..\n",
        "\n",
        "Reads a single line from the file and returns it as a string.\n",
        "The line includes the newline character (\\n) at the end, unless it's the last line of the file.\n",
        "\n",
        "If you provide an optional size argument, it reads at most that many bytes/characters from the line.\n",
        "If the end of the file is reached, it returns an empty string ('')."
      ],
      "metadata": {
        "id": "cu9gbIHsyn5t"
      }
    },
    {
      "cell_type": "markdown",
      "source": [
        "21. what is the logging module in python used for?\n",
        "\n",
        "The logging module in Python is used for recording events, messages, and data during the execution of a program. It helps track the flow of execution, identify errors, and debug issues.\n",
        "\n",
        "Purpose:\n",
        "\n",
        "Record Program Events: The logging module allows you to record various events that occur during program execution, such as function calls, exceptions, or custom messages.\n",
        "\n",
        "Track Execution Flow: By logging events at different points in your code, you can create a chronological record of the program's execution flow, making it easier to understand how the program behaves.\n",
        "\n",
        "Identify Errors and Debug Issues: When errors or unexpected behavior occur, log messages can provide valuable insights into the cause of the problem. By examining the logs, you can pinpoint the source of the issue and debug it more effectively.\n",
        "\n",
        "Monitor and Audit: Logging can be used for real-time monitoring and auditing of your application. By tracking key metrics and events, you can identify potential issues before they become critical and gain insights into how your application is being used.\n",
        "\n",
        "Security and Compliance: Logs can be used for security and compliance purposes, providing an audit trail of user actions and system events. This information can help detect and investigate security breaches and meet regulatory requirements for data retention and logging.\n",
        "\n"
      ],
      "metadata": {
        "id": "rcjDAlj-3B4F"
      }
    },
    {
      "cell_type": "markdown",
      "source": [
        "22. what is the os module in python used for in file handling?\n",
        "\n",
        "\n",
        "The os module provides functions for interacting with the operating system, including file handling. While it's not the primary module for file I/O (the io module and built-in functions like open() are used for that), the os module offers valuable tools for tasks related to files and directories..\n"
      ],
      "metadata": {
        "id": "dkSaBmEO31At"
      }
    },
    {
      "cell_type": "markdown",
      "source": [
        "23. what are the challenges associated with memory management in python ?\n",
        "\n",
        "\n",
        "1. Memory Leaks:\n",
        "\n",
        "Circular References: When objects refer to each other in a cycle, their reference counts never reach zero, preventing garbage collection and leading to memory leaks.\n",
        "Global Variables: Global variables can persist throughout the program's execution, potentially holding onto large objects that are no longer needed.\n",
        "\n",
        "2. Performance Overhead:\n",
        "\n",
        "Garbage Collection: While automatic, garbage collection can introduce pauses and overhead, impacting performance, particularly in real-time or performance-critical applications.\n",
        "Reference Counting: Maintaining reference counts for every object adds overhead, potentially affecting execution speed.\n",
        "\n",
        "3. Lack of Fine-Grained Control:\n",
        "\n",
        "Limited Manual Control: Python's automatic memory management provides limited control over memory allocation and deallocation compared to languages with manual memory management.\n",
        "Difficult Optimization: Optimizing memory usage for specific scenarios can be challenging due to the automatic nature of garbage collection.\n",
        "\n",
        "4. Large Datasets and Objects:\n",
        "\n",
        "Memory Fragmentation: Working with large datasets or creating numerous objects can lead to memory fragmentation, where free memory is scattered and unavailable for larger allocations.\n",
        "High Memory Consumption: Processing massive amounts of data can result in significant memory consumption, potentially exceeding available resources.\n",
        "\n",
        "5. Multiprocessing and Threading:\n",
        "\n",
        "Shared Memory: In multiprocessing, sharing large data structures between processes can be complex and inefficient, requiring careful synchronization and potentially leading to memory contention.\n",
        "\n",
        "GIL Limitations: The Global Interpreter Lock (GIL) in Python can limit the true parallelism of multithreaded applications, as only one thread can execute Python bytecode at a time.\n",
        "Strategies for Addressing Challenges:\n",
        "\n"
      ],
      "metadata": {
        "id": "NIqrVCF34pHQ"
      }
    },
    {
      "cell_type": "markdown",
      "source": [
        "24. How do you raise an exception manually in python?\n",
        "\n",
        "In python , we can manually raise exception using raise statement .\n",
        "\n",
        "```\n",
        "raise exception(\" error message\")\n",
        "```\n",
        "\n",
        "\n",
        "ExceptionType is the type of exception you want to raise (e.g., ValueError, TypeError, RuntimeError, or a custom exception class).\n",
        "\n",
        "\"Error message\" is an optional string that provides more information about the error.\n",
        "\n",
        "\n",
        "EXAMPLE.\n",
        "```\n",
        "\n",
        "def validate_age(age):\n",
        "    if age < 0:\n",
        "        raise ValueError(\"Age cannot be negative\")\n",
        "\n",
        "try:\n",
        "    validate_age(-5)\n",
        "except ValueError as e:\n",
        "    print(e)  # Output: Age cannot be negative\n",
        "```"
      ],
      "metadata": {
        "id": "7EOt1lpq58N7"
      }
    },
    {
      "cell_type": "markdown",
      "source": [
        "25. Why is it important to use multithreading in ceratin application?\n",
        "\n",
        "Multithreading is a technique that allows a program to execute multiple threads concurrently within a single process. This can significantly improve performance and responsiveness in certain types of applications.\n",
        "\n",
        "alike..\n",
        "\n",
        ". Improved Performance and Responsiveness:\n",
        "\n",
        "Parallel Execution: Multithreading enables parallel execution of tasks, especially on systems with multiple CPU cores. This can significantly reduce the overall execution time of the program.\n",
        "\n",
        "Enhanced Responsiveness: For applications with user interfaces, multithreading can prevent the UI from freezing while long-running tasks are being performed in the background. This keeps the application responsive and interactive.\n",
        "\n",
        "Resource Utilization: Multithreading allows better utilization of system resources by allowing threads to wait for external resources (e.g., I/O operations) without blocking the entire process.\n",
        "\n",
        "2. Suitability for Specific Tasks:\n",
        "\n",
        "I/O-Bound Tasks: Multithreading is particularly beneficial for I/O-bound tasks, where the program spends a significant amount of time waiting for input or output operations to complete (e.g., network requests, file reads). While one thread is waiting, other threads can continue executing, maximizing resource utilization.\n",
        "\n",
        "Concurrent Operations: Applications that require concurrent handling of multiple tasks, such as servers or real-time systems, can benefit from multithreading to manage these tasks efficiently.\n",
        "\n",
        "Background Processing: Tasks that can be performed in the background without blocking the main thread, such as data processing or logging, are well-suited for multithreading\n",
        "\n"
      ],
      "metadata": {
        "id": "GfBAaUcj7-sL"
      }
    },
    {
      "cell_type": "markdown",
      "source": [
        "**Practical Question**\n",
        "\n"
      ],
      "metadata": {
        "id": "vyi8y4t09kd0"
      }
    },
    {
      "cell_type": "code",
      "source": [
        "# how can you open a file for writing in python and write a string to it?\n",
        "file = open(\"my_file.txt\",\"w\")\n",
        "file.write(\"hello yash,how are you\")\n",
        "file.close()"
      ],
      "metadata": {
        "id": "IqfgY-bb9vq6"
      },
      "execution_count": null,
      "outputs": []
    },
    {
      "cell_type": "code",
      "source": [
        "# text file\n",
        "filename = \"yashassignment.txt\"\n",
        "\n",
        "content = \"\"\"Hello, this is a assignement file.\n",
        "It contains multiple lines of text.\n",
        "Each line can be read individually.\n",
        "This helps demonstrate file handling in Python.\n",
        "enjoy your day!\n",
        "\"\"\"\n",
        "\n",
        "# Write content to the file\n",
        "with open(filename, \"w\") as file:\n",
        "    file.write(content)\n",
        "\n",
        "# Confirm file creation\n",
        "filename\n"
      ],
      "metadata": {
        "id": "OLg9Jp1RU4X4"
      },
      "execution_count": null,
      "outputs": []
    },
    {
      "cell_type": "code",
      "source": [
        "#write a python program to read the contents of a file and print each  line?\n",
        "# Open the file in read mode ('r')\n",
        "with open(\"my_file.txt\", \"r\") as f:  # Changed 'file' to 'f' for clarity\n",
        "    for line in f:\n",
        "        print(line.strip())  # strip() removes extra newline characters\n"
      ],
      "metadata": {
        "id": "bblDiynsrM72"
      },
      "execution_count": null,
      "outputs": []
    },
    {
      "cell_type": "code",
      "source": [
        "#how would you handle a  case where the file does'nt exists while trying to openit for reading?\n",
        "try:\n",
        "    with open(\"yashassignment.txt\", \"r\") as file:\n",
        "        for line in file:\n",
        "            print(line.strip())\n",
        "except FileNotFoundError:\n",
        "    print(\"Error: The file does not exist. Please check the filename and try again.\")\n"
      ],
      "metadata": {
        "id": "YB-qFip1si9W"
      },
      "execution_count": null,
      "outputs": []
    },
    {
      "cell_type": "code",
      "source": [
        "#write a python scripts that read from one file and writes its content to another file?\n",
        "\n",
        "    with open(\"source.txt\", \"r\") as source_file, open(\"destination.txt\", \"w\") as dest_file:\n",
        "        for line in source_file:\n",
        "            dest_file.write(line)  # Write each line to the destination file\n",
        "    print(\"File copied successfully.\")\n",
        "except FileNotFoundError:\n",
        "    print(\"Error: The source file does not exist.\")\n",
        "\n"
      ],
      "metadata": {
        "id": "NIdjgmyctMAl"
      },
      "execution_count": null,
      "outputs": []
    },
    {
      "cell_type": "code",
      "source": [
        "# how would you catch and handle divison by zero error in python?\n",
        "\n",
        "try:\n",
        "    numerator = 10\n",
        "    denominator = 0\n",
        "    result = numerator / denominator  # This will raise ZeroDivisionError\n",
        "except ZeroDivisionError:\n",
        "    print(\"Error: Division by zero is not allowed.\")\n",
        "else:\n",
        "    print(\"Result:\", result)\n",
        "finally:\n",
        "    print(\"Execution completed.\")\n",
        "\n",
        "\n",
        "\n"
      ],
      "metadata": {
        "id": "FHH--Tklul6d"
      },
      "execution_count": null,
      "outputs": []
    },
    {
      "cell_type": "code",
      "source": [
        "#write a python program that logs an error message to a log file when a divison by zero  exception occurs ?\n",
        "import logging\n",
        "\n",
        "logging.basicConfig(filename=\"error.log\", level=logging.ERROR,\n",
        "                    format=\"%(asctime)s - %(levelname)s - %(message)s\")\n",
        "\n",
        "def divide_numbers(numerator, denominator):\n",
        "    try:\n",
        "        result = numerator / denominator\n",
        "        return result\n",
        "    except ZeroDivisionError:\n",
        "        logging.error(\"Division by zero attempted. Numerator: %s, Denominator: %s\", numerator, denominator)\n",
        "        return \"Error: Division by zero is not allowed.\"\n",
        "\n",
        "num = 10\n",
        "den = 0\n",
        "output = divide_numbers(num, den)\n",
        "print(output)  # This will print an error message\n"
      ],
      "metadata": {
        "id": "xr9NymkTMvyq"
      },
      "execution_count": null,
      "outputs": []
    },
    {
      "cell_type": "code",
      "source": [
        "#how do you log  information at different level(info,error,warning)in python using logging module?\n",
        "import logging\n",
        "\n",
        "# Configure logging\n",
        "logging.basicConfig(filename=\"app.log\", level=logging.DEBUG,\n",
        "                    format=\"%(asctime)s - %(levelname)s - %(message)s\")\n",
        "\n",
        "# Log messages at different levels\n",
        "logging.info(\"This is an INFO message (general information).\")\n",
        "logging.warning(\"This is a WARNING message (potential issue).\")\n",
        "logging.error(\"This is an ERROR message (something went wrong).\")\n",
        "\n",
        "print(\"Log messages have been written to app.log\")\n"
      ],
      "metadata": {
        "id": "f08EG2k4Ox5Z"
      },
      "execution_count": null,
      "outputs": []
    },
    {
      "cell_type": "code",
      "source": [
        "#write a program to handle a file opening error using exception handling?\n",
        "def read_file(filename):\n",
        "    try:\n",
        "        with open(filename, \"r\") as file:\n",
        "            content = file.read()\n",
        "            print(\"File content:\\n\", content)\n",
        "    except FileNotFoundError:\n",
        "        print(f\"Error: The file '{filename}' was not found.\")\n",
        "    except PermissionError:\n",
        "        print(f\"Error: Permission denied while accessing '{filename}'.\")\n",
        "    except Exception as e:\n",
        "        print(f\"An unexpected error occurred: {e}\")\n",
        "\n",
        "filename = \"yashassignment.txt\"\n",
        "read_file(filename)\n"
      ],
      "metadata": {
        "id": "Eqb_WVaFP-YZ"
      },
      "execution_count": null,
      "outputs": []
    },
    {
      "cell_type": "code",
      "source": [
        "#how can you read a file line by line and store its content in a list in pyhton?\n",
        "def read_file_lines(filename):\n",
        "    try:\n",
        "        with open(filename, \"r\") as file:\n",
        "            lines = file.readlines()  # Reads all lines into a list\n",
        "            return [line.strip() for line in lines]  # Remove newline characters\n",
        "    except FileNotFoundError:\n",
        "        print(f\"Error: The file '{filename}' was not found.\")\n",
        "        return []\n",
        "    except Exception as e:\n",
        "        print(f\"An error occurred: {e}\")\n",
        "        return []\n",
        "\n",
        "filename = \"yashassignment.txt\"\n",
        "lines_list = read_file_lines(filename)\n",
        "print(lines_list)"
      ],
      "metadata": {
        "id": "Uy3WB96jP-Wo"
      },
      "execution_count": null,
      "outputs": []
    },
    {
      "cell_type": "code",
      "source": [
        "#how can you append data to an existing files in python?\n",
        "def append_to_file(filename, content):\n",
        "    try:\n",
        "        with open(filename, \"a\") as file:  # Open file in append mode\n",
        "            file.write(content + \"\\n\")  # Add content with a newline\n",
        "            print(f\"Content successfully appended to {filename}\")\n",
        "    except Exception as e:\n",
        "        print(f\"An error occurred: {e}\")\n",
        "\n",
        "filename = \"yashassignment.txt\"\n",
        "content_to_append = \"This line is added to the file during the append operation.\"\n",
        "append_to_file(filename, content_to_append)\n"
      ],
      "metadata": {
        "id": "PEoJQW6wSboQ"
      },
      "execution_count": null,
      "outputs": []
    },
    {
      "cell_type": "code",
      "source": [
        "# write a python program that uses a try-except block to handle an error when attempting to access a dictionary key that doesn't exist?\n",
        "def get_value_from_dict(data_dict, key):\n",
        "    try:\n",
        "        value = data_dict[key]  # Try to access the key\n",
        "        print(f\"Value for '{key}': {value}\")\n",
        "    except KeyError:\n",
        "        print(f\"Error: The key '{key}' does not exist in the dictionary.\")\n",
        "\n",
        "sample_dict = {\"name\": \"yash\", \"age\": 20, \"city\": \"delhi\"}\n",
        "\n",
        "# Access an existing key\n",
        "get_value_from_dict(sample_dict, \"name\")\n",
        "\n",
        "# Attempt to access a non-existent key\n",
        "get_value_from_dict(sample_dict, \"salary\")\n"
      ],
      "metadata": {
        "id": "xmzn5skRWbji"
      },
      "execution_count": null,
      "outputs": []
    },
    {
      "cell_type": "code",
      "source": [
        "# write a program that demonstarate using multiple except blocks to handle different types of exception?\n",
        "def handle_exceptions():\n",
        "    try:\n",
        "        num1 = int(input(\"Enter numerator: \"))  # Might raise ValueError\n",
        "        num2 = int(input(\"Enter denominator: \"))  # Might raise ValueError\n",
        "        result = num1 / num2  # Might raise ZeroDivisionError\n",
        "        print(f\"Result: {result}\")\n",
        "\n",
        "        my_list = [1, 2, 3]\n",
        "        index = int(input(\"Enter an index to access: \"))  # Might raise ValueError\n",
        "        print(f\"Value at index {index}: {my_list[index]}\")  # Might raise IndexError\n",
        "\n",
        "    except ValueError:\n",
        "        print(\"Error: Invalid input! Please enter a valid integer.\")\n",
        "    except ZeroDivisionError:\n",
        "        print(\"Error: Division by zero is not allowed.\")\n",
        "    except IndexError:\n",
        "        print(\"Error: Index out of range! Please enter a valid index.\")\n",
        "    except Exception as e:\n",
        "        print(f\"An unexpected error occurred: {e}\")\n",
        "\n",
        "# Run the function\n",
        "handle_exceptions()\n",
        "\n"
      ],
      "metadata": {
        "id": "7THQ9J2WXP_3"
      },
      "execution_count": null,
      "outputs": []
    },
    {
      "cell_type": "code",
      "source": [
        "#how would you check if a file exists before attempting to read it in python?\\\n",
        "import os\n",
        "\n",
        "filename = \"yashassignment.txt\"\n",
        "\n",
        "if os.path.exists(filename):\n",
        "    with open(filename, \"r\") as file:\n",
        "        content = file.read()\n",
        "        print(\"File content:\\n\", content)\n",
        "else:\n",
        "    print(f\"Error: The file '{filename}' does not exist.\")\n",
        "\n"
      ],
      "metadata": {
        "id": "vvE-xpUcYRzf"
      },
      "execution_count": null,
      "outputs": []
    },
    {
      "cell_type": "code",
      "source": [
        "#write a program that uses the logging module to log both informational and error message ?\n",
        "import logging\n",
        "\n",
        "# Configure logging\n",
        "logging.basicConfig(filename=\"app.log\", level=logging.DEBUG,\n",
        "                    format=\"%(asctime)s - %(levelname)s - %(message)s\")\n",
        "\n",
        "def divide_numbers(num1, num2):\n",
        "    try:\n",
        "        logging.info(f\"Attempting to divide {num1} by {num2}\")\n",
        "        result = num1 / num2\n",
        "        logging.info(f\"Division successful: {num1} / {num2} = {result}\")\n",
        "        return result\n",
        "    except ZeroDivisionError:\n",
        "        logging.error(\"Error: Division by zero attempted!\")\n",
        "        return \"Error: Division by zero is not allowed.\"\n",
        "    except Exception as e:\n",
        "        logging.error(f\"Unexpected error occurred: {e}\")\n",
        "        return f\"Error: {e}\"\n",
        "\n",
        "print(divide_numbers(10, 2))  # Should log an info message\n",
        "print(divide_numbers(10, 0))  # Should log an error message\n"
      ],
      "metadata": {
        "id": "R99hF9RZZMav"
      },
      "execution_count": null,
      "outputs": []
    },
    {
      "cell_type": "code",
      "source": [
        "# write a program that prints the content of a file and handles the case when the file is empty?\n",
        "import os\n",
        "\n",
        "def print_file_content(filename):\n",
        "    try:\n",
        "        if not os.path.exists(filename):\n",
        "            print(f\"Error: The file '{filename}' does not exist.\")\n",
        "            return\n",
        "\n",
        "        with open(filename, \"r\") as file:\n",
        "            content = file.read()\n",
        "\n",
        "            if not content:  # Check if the file is empty\n",
        "                print(f\"Warning: The file '{filename}' is empty.\")\n",
        "            else:\n",
        "                print(\"File content:\\n\", content)\n",
        "\n",
        "    except Exception as e:\n",
        "        print(f\"An error occurred: {e}\")\n",
        "\n",
        "filename = \"yashassignment.txt\"\n",
        "print_file_content(filename)\n",
        "\n"
      ],
      "metadata": {
        "id": "JmdSrSkmZ7_p"
      },
      "execution_count": null,
      "outputs": []
    },
    {
      "cell_type": "code",
      "source": [
        "#demonstrate how to use memory profiling to check the memory usage of a small program?\n",
        "!pip install memory-profiler\n",
        "\n",
        "\n",
        "\n",
        "def memory_intensive_function():\n",
        "    # Creating a large list to demonstrate memory usage\n",
        "    large_list = [i for i in range(100000)]\n",
        "    return sum(large_list)\n",
        "\n",
        "# Run the function\n",
        "memory_intensive_function()\n",
        "\n",
        "\n",
        "!python -m memory_profiler memory_test.py\n",
        "\n",
        "def memory_intensive_function():\n",
        "    # Creating a large list to demonstrate memory usage\n",
        "    large_list = [i for i in range(100000)]\n",
        "    return sum(large_list)\n",
        "\n",
        "# Run the function\n",
        "memory_intensive_function\n",
        "\n",
        "\n"
      ],
      "metadata": {
        "id": "wex1-Qb5a2pa"
      },
      "execution_count": null,
      "outputs": []
    },
    {
      "cell_type": "code",
      "source": [
        "#write a python program to create and write a list of number to a file ,one number per line?\n",
        "def write_numbers_to_file(filename, numbers):\n",
        "    try:\n",
        "        with open(filename, \"w\") as file:  # Open file in write mode\n",
        "            for number in numbers:\n",
        "                file.write(f\"{number}\\n\")  # Write each number on a new line\n",
        "        print(f\"Numbers successfully written to {filename}\")\n",
        "    except Exception as e:\n",
        "        print(f\"An error occurred: {e}\")\n",
        "\n",
        "numbers_list = list(range(1, 11))  # List of numbers from 1 to 10\n",
        "filename = \"yashassignment.txt\"\n",
        "write_numbers_to_file(filename, numbers_list)\n"
      ],
      "metadata": {
        "id": "OnQbZN9rdCM_"
      },
      "execution_count": null,
      "outputs": []
    },
    {
      "cell_type": "code",
      "source": [
        "# how would you implement a basic logging setup that logs to a file with rotation after 1 mb?\n",
        "import logging\n",
        "from logging.handlers import RotatingFileHandler\n",
        "\n",
        "# Configure logging\n",
        "log_filename = \"app.log\"\n",
        "log_size = 1 * 1024 * 1024  # 1 MB (1024 * 1024 bytes)\n",
        "backup_count = 3  # Keep 3 old log files\n",
        "\n",
        "# Create a rotating file handler\n",
        "handler = RotatingFileHandler(log_filename, maxBytes=log_size, backupCount=backup_count)\n",
        "handler.setLevel(logging.DEBUG)\n",
        "\n",
        "# Create a logging format\n",
        "formatter = logging.Formatter(\"%(asctime)s - %(levelname)s - %(message)s\")\n",
        "handler.setFormatter(formatter)\n",
        "\n",
        "# Get the root logger and set level\n",
        "logger = logging.getLogger()\n",
        "logger.setLevel(logging.DEBUG)\n",
        "logger.addHandler(handler)\n",
        "\n",
        "# Example logs\n",
        "for i in range(10000):  # Generating a lot of logs to trigger rotation\n",
        "    logger.info(f\"Log message {i}\")\n"
      ],
      "metadata": {
        "id": "hktK5B7mdwD3"
      },
      "execution_count": null,
      "outputs": []
    },
    {
      "cell_type": "code",
      "source": [
        "#write a program that handles both indexerror and keyerror using a try-except block?\n",
        "def handle_errors():\n",
        "    my_list = [1, 2, 3]\n",
        "    my_dict = {\"name\": \"yash\", \"age\": 20}\n",
        "\n",
        "    try:\n",
        "        # Attempt to access an out-of-range index\n",
        "        print(f\"List value: {my_list[5]}\")  # This will raise IndexError\n",
        "\n",
        "        # Attempt to access a non-existent key\n",
        "        print(f\"Dictionary value: {my_dict['city']}\")  # This will raise KeyError\n",
        "\n",
        "    except IndexError:\n",
        "        print(\"Error: Index out of range! Please provide a valid list index.\")\n",
        "\n",
        "    except KeyError:\n",
        "        print(\"Error: Key not found! Please check the dictionary key.\")\n",
        "\n",
        "# Run the function\n",
        "handle_errors()\n",
        "\n"
      ],
      "metadata": {
        "id": "HLliZVR8e7pR"
      },
      "execution_count": null,
      "outputs": []
    },
    {
      "cell_type": "code",
      "source": [
        "#how would you open a file and read its content using a content manager in python?\n",
        "with open(\"yashassignment.txt\", \"r\") as file:\n",
        "    content = file.read()\n",
        "    print(\"File content:\\n\", content)"
      ],
      "metadata": {
        "id": "sXfT0PWXe7nd"
      },
      "execution_count": null,
      "outputs": []
    },
    {
      "cell_type": "code",
      "source": [
        "#write a program that reads a file and print the numbers of occurrence of a specific words\n",
        "def count_word_occurrences(filename, word):\n",
        "    try:\n",
        "        with open(filename, \"r\", encoding=\"utf-8\") as file:\n",
        "            content = file.read().lower()  # Read and convert to lowercase for case-insensitive matching\n",
        "            word_count = content.split().count(word.lower())  # Count occurrences\n",
        "            print(f\"The word '{word}' appears {word_count} times in '{filename}'.\")\n",
        "    except FileNotFoundError:\n",
        "        print(f\"Error: The file '{filename}' does not exist.\")\n",
        "    except Exception as e:\n",
        "        print(f\"An error occurred: {e}\")\n",
        "\n",
        "# Example usage\n",
        "filename = \"yashassignment.txt\"\n",
        "word_to_count = \"yash\"  # Replace with your desired word\n",
        "count_word_occurrences(filename, word_to_count)\n"
      ],
      "metadata": {
        "id": "CbHTzML5gHb-"
      },
      "execution_count": null,
      "outputs": []
    },
    {
      "cell_type": "code",
      "source": [
        "#how can you check if a file is empty before attem[ting to read itd content?]\n",
        "import os\n",
        "\n",
        "filename = \"example.txt\"\n",
        "\n",
        "if os.path.exists(filename):\n",
        "    if os.path.getsize(filename) == 0:\n",
        "        print(f\"Warning: The file '{filename}' is empty.\")\n",
        "    else:\n",
        "        with open(filename, \"r\") as file:\n",
        "            content = file.read()\n",
        "            print(\"File content:\\n\", content)\n",
        "else:\n",
        "    print(f\"Error: The file '{filename}' does not exist.\")\n"
      ],
      "metadata": {
        "id": "fjnPiayFgxN2"
      },
      "execution_count": null,
      "outputs": []
    },
    {
      "cell_type": "code",
      "source": [
        "#write a python program that writes to a log file when an error occurs during file handling?\n",
        "import logging\n",
        "\n",
        "# Configure logging\n",
        "logging.basicConfig(filename=\"file_errors.log\", level=logging.ERROR,\n",
        "                    format=\"%(asctime)s - %(levelname)s - %(message)s\")\n",
        "\n",
        "def read_file(filename):\n",
        "    try:\n",
        "        with open(filename, \"r\") as file:\n",
        "            content = file.read()\n",
        "            print(\"File content:\\n\", content)\n",
        "    except FileNotFoundError:\n",
        "        logging.error(f\"FileNotFoundError: The file '{filename}' does not exist.\")\n",
        "        print(f\"Error: The file '{filename}' does not exist.\")\n",
        "    except PermissionError:\n",
        "        logging.error(f\"PermissionError: Cannot access the file '{filename}'.\")\n",
        "        print(f\"Error: Permission denied for '{filename}'.\")\n",
        "    except Exception as e:\n",
        "        logging.error(f\"Unexpected Error: {e}\")\n",
        "        print(f\"An unexpected error occurred: {e}\")\n",
        "\n",
        "# Example usage\n",
        "filename = \"yashassignment.txt\"\n",
        "read_file(filename)\n"
      ],
      "metadata": {
        "id": "jOOuHF9QhdWn"
      },
      "execution_count": null,
      "outputs": []
    },
    {
      "cell_type": "markdown",
      "source": [
        "**END**"
      ],
      "metadata": {
        "id": "q-wcE-eth5Gm"
      }
    }
  ]
}